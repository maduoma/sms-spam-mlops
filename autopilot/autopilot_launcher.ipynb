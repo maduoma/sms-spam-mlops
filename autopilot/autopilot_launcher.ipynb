{
 "cells": [
  {
   "cell_type": "code",
   "execution_count": null,
   "id": "12cf73f3-0640-4094-b85b-e53a6d20b8fa",
   "metadata": {},
   "outputs": [],
   "source": [
    "# ✅ File: autopilot/autopilot_launcher.ipynb (Python script version for conversion)\n",
    "\n",
    "import boto3\n",
    "import sagemaker\n",
    "from sagemaker import AutoML\n",
    "from sagemaker.session import Session\n",
    "import pandas as pd\n",
    "\n",
    "role = sagemaker.get_execution_role()\n",
    "sm_session = sagemaker.Session()\n",
    "bucket = sm_session.default_bucket()\n",
    "region = sm_session.boto_region_name\n",
    "\n",
    "data_path = \"../data/sms.tsv\"\n",
    "s3_input_path = f\"s3://{bucket}/autopilot/sms.tsv\"\n",
    "s3_output_path = f\"s3://{bucket}/autopilot/output\"\n",
    "\n",
    "# Upload data\n",
    "s3 = boto3.client(\"s3\")\n",
    "s3.upload_file(data_path, bucket, \"autopilot/sms.tsv\")\n",
    "\n",
    "# Launch AutoPilot Job\n",
    "automl = AutoML(\n",
    "    role=role,\n",
    "    target_attribute_name=\"label\",\n",
    "    output_path=s3_output_path,\n",
    "    max_candidates=5,\n",
    "    sagemaker_session=sm_session,\n",
    "    problem_type=\"BinaryClassification\",\n",
    "    job_objective={\"MetricName\": \"Accuracy\"}\n",
    ")\n",
    "\n",
    "automl.fit(inputs=s3_input_path, job_name=\"sms-spam-autopilot\")\n",
    "print(\"✅ AutoPilot job submitted. Monitor in SageMaker Studio.\")"
   ]
  }
 ],
 "metadata": {
  "kernelspec": {
   "display_name": "Python 3 (ipykernel)",
   "language": "python",
   "name": "python3"
  },
  "language_info": {
   "codemirror_mode": {
    "name": "ipython",
    "version": 3
   },
   "file_extension": ".py",
   "mimetype": "text/x-python",
   "name": "python",
   "nbconvert_exporter": "python",
   "pygments_lexer": "ipython3",
   "version": "3.11.11"
  }
 },
 "nbformat": 4,
 "nbformat_minor": 5
}
