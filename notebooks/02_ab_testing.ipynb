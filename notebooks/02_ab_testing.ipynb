{
 "cells": [
  {
   "cell_type": "code",
   "execution_count": null,
   "id": "8185cb45-831c-4f35-a9e1-5a3b98a8a1c5",
   "metadata": {},
   "outputs": [],
   "source": [
    "# ✅ File: notebooks/02_ab_testing.ipynb (Python script version for conversion)\n",
    "\n",
    "# This simulates sending multiple requests to both variants of the deployed SageMaker endpoint\n",
    "\n",
    "import boto3\n",
    "import json\n",
    "import numpy as np\n",
    "from sklearn.feature_extraction.text import TfidfVectorizer\n",
    "import joblib\n",
    "\n",
    "# Load TF-IDF vectorizer\n",
    "vectorizer = joblib.load(\"../data/processed/tfidf_vectorizer.pkl\")\n",
    "\n",
    "runtime = boto3.client(\"sagemaker-runtime\")\n",
    "endpoint_name = \"sms-ab-endpoint\"\n",
    "\n",
    "# Test messages\n",
    "samples = [\n",
    "    \"Congratulations! You've won a $1000 Walmart gift card. Go to http://bit.ly/123 to claim now.\",\n",
    "    \"Hey, are we still meeting for lunch today?\",\n",
    "    \"URGENT! Your account has been compromised. Respond immediately!\",\n",
    "    \"I'll call you when I get off work.\"\n",
    "]\n",
    "\n",
    "# Vectorize\n",
    "X = vectorizer.transform(samples).toarray()\n",
    "\n",
    "# Invoke endpoint for each sample\n",
    "for i, x in enumerate(X):\n",
    "    payload = json.dumps(x.tolist())\n",
    "    response = runtime.invoke_endpoint(\n",
    "        EndpointName=endpoint_name,\n",
    "        ContentType=\"application/json\",\n",
    "        Body=payload\n",
    "    )\n",
    "    prediction = json.loads(response[\"Body\"].read().decode())\n",
    "    print(f\"Sample {i+1}: Prediction: {prediction}\")\n"
   ]
  }
 ],
 "metadata": {
  "kernelspec": {
   "display_name": "Python 3 (ipykernel)",
   "language": "python",
   "name": "python3"
  },
  "language_info": {
   "codemirror_mode": {
    "name": "ipython",
    "version": 3
   },
   "file_extension": ".py",
   "mimetype": "text/x-python",
   "name": "python",
   "nbconvert_exporter": "python",
   "pygments_lexer": "ipython3",
   "version": "3.11.11"
  }
 },
 "nbformat": 4,
 "nbformat_minor": 5
}
