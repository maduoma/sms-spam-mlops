{
 "cells": [
  {
   "cell_type": "code",
   "execution_count": null,
   "id": "4ffd82dd-3ab6-47ae-a5ab-4a2cdb1d8388",
   "metadata": {},
   "outputs": [],
   "source": [
    "# ✅ File: notebooks/03_monitor_canary.ipynb (Python script version for conversion)\n",
    "\n",
    "import boto3\n",
    "\n",
    "cloudwatch = boto3.client(\"cloudwatch\")\n",
    "endpoint_name = \"sms-ab-endpoint\"\n",
    "\n",
    "# Fetch accuracy metric\n",
    "response = cloudwatch.get_metric_statistics(\n",
    "    Namespace=\"SageMaker/Endpoints\",\n",
    "    MetricName=\"Accuracy\",\n",
    "    Dimensions=[\n",
    "        {\n",
    "            \"Name\": \"EndpointName\",\n",
    "            \"Value\": endpoint_name\n",
    "        }\n",
    "    ],\n",
    "    StartTime=datetime.utcnow() - timedelta(minutes=30),\n",
    "    EndTime=datetime.utcnow(),\n",
    "    Period=300,\n",
    "    Statistics=[\"Average\"]\n",
    ")\n",
    "\n",
    "for point in response[\"Datapoints\"]:\n",
    "    print(f\"Time: {point['Timestamp']} | Accuracy: {point['Average']:.4f}\")\n",
    "\n"
   ]
  }
 ],
 "metadata": {
  "kernelspec": {
   "display_name": "Python 3 (ipykernel)",
   "language": "python",
   "name": "python3"
  },
  "language_info": {
   "codemirror_mode": {
    "name": "ipython",
    "version": 3
   },
   "file_extension": ".py",
   "mimetype": "text/x-python",
   "name": "python",
   "nbconvert_exporter": "python",
   "pygments_lexer": "ipython3",
   "version": "3.11.11"
  }
 },
 "nbformat": 4,
 "nbformat_minor": 5
}
